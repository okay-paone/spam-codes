{
  "nbformat": 4,
  "nbformat_minor": 0,
  "metadata": {
    "colab": {
      "provenance": []
    },
    "kernelspec": {
      "name": "python3",
      "display_name": "Python 3"
    },
    "language_info": {
      "name": "python"
    }
  },
  "cells": [
    {
      "cell_type": "code",
      "execution_count": null,
      "metadata": {
        "id": "xk8eYJJb0UDD"
      },
      "outputs": [],
      "source": [
        "#importing imshow function since google colab restricts cv2.imshow()\n",
        "from google.colab.patches import cv2_imshow\n",
        "#importing opencv2\n",
        "import cv2\n",
        "#reading the image\n",
        "img=cv2.imread('/content/Lenna_(test_image).png')\n",
        "cv2_imshow(img)\n",
        "import numpy as np\n",
        "#converting the image into a numpy array\n",
        "array=np.asarray(img)\n",
        "#cropping the image using a new array(the dimensions of the array can be changed for custom cropping)\n",
        "array2=np.empty((300,300,3))\n",
        "for k in range(3):\n",
        "  for i in range(300):\n",
        "    for j in range(300):\n",
        "      array2[i][j][k]=array[i][j][k]\n",
        "latimg=cv2.imwrite('newimg.png',array2)#saving the image\n",
        "dis=cv2.imread('/content/newimg.png')\n",
        "#displaying the cropped image\n",
        "cv2_imshow(dis)"
      ]
    }
  ]
}
